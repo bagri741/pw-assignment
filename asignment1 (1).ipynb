{
 "cells": [
  {
   "cell_type": "code",
   "execution_count": null,
   "id": "0ef0603d-adf8-4a9f-a31a-7f18d0f7638a",
   "metadata": {},
   "outputs": [],
   "source": []
  },
  {
   "cell_type": "code",
   "execution_count": 1,
   "id": "1b4a1789-f501-49ba-9a4b-204196680031",
   "metadata": {},
   "outputs": [],
   "source": [
    "\n",
    "\n",
    "\n",
    "\n",
    "list1 = [1,2,3,4, [44,55,66, True], False, (34,56,78,89,34), {1,2,3,3,2,1}, {1:34, \"key2\": [55, 67, 78, 89], 4: (45,\n",
    "22, 61, 34)}, [56, 'data science'], 'Machine Learning']\n"
   ]
  },
  {
   "cell_type": "code",
   "execution_count": 2,
   "id": "a59bdab6-c498-43b0-bd7e-e87ac801b194",
   "metadata": {},
   "outputs": [],
   "source": [
    "def product_of_numbers(lst):\n",
    "    def flatten(lst):\n",
    "        flat_list = []\n",
    "        for item in lst:\n",
    "            if type(item) in (list, tuple, set):\n",
    "                flat_list.extend(flatten(item))\n",
    "            elif type(item) == dict:\n",
    "                flat_list.extend(flatten(list(item.keys())))\n",
    "                flat_list.extend(flatten(list(item.values())))\n",
    "            elif type(item) in (int, float):\n",
    "                flat_list.append(item)\n",
    "        return flat_list\n",
    "\n",
    "    flat_list = flatten(lst)\n",
    "    product = 1\n",
    "    for num in flat_list:\n",
    "        if type(num) in (int, float):\n",
    "            product *= num\n",
    "    return product\n",
    "\n"
   ]
  },
  {
   "cell_type": "code",
   "execution_count": 3,
   "id": "accfd47c-3297-44f3-b50c-6d574e9e4512",
   "metadata": {},
   "outputs": [
    {
     "name": "stdout",
     "output_type": "stream",
     "text": [
      "4134711838987085478833841242112000\n"
     ]
    }
   ],
   "source": [
    "print(product_of_numbers(list1))"
   ]
  },
  {
   "cell_type": "code",
   "execution_count": null,
   "id": "c0dc9b30-d1e5-41d0-b875-1fac9f5e8ec1",
   "metadata": {},
   "outputs": [],
   "source": []
  }
 ],
 "metadata": {
  "kernelspec": {
   "display_name": "Python 3 (ipykernel)",
   "language": "python",
   "name": "python3"
  },
  "language_info": {
   "codemirror_mode": {
    "name": "ipython",
    "version": 3
   },
   "file_extension": ".py",
   "mimetype": "text/x-python",
   "name": "python",
   "nbconvert_exporter": "python",
   "pygments_lexer": "ipython3",
   "version": "3.10.8"
  },
  "toc-autonumbering": true
 },
 "nbformat": 4,
 "nbformat_minor": 5
}
